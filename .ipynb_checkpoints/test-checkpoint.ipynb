{
 "cells": [
  {
   "cell_type": "code",
   "execution_count": 1,
   "metadata": {},
   "outputs": [],
   "source": [
    "# imports\n",
    "import pandas as pd\n",
    "import matplotlib.pyplot as plt"
   ]
  },
  {
   "cell_type": "code",
   "execution_count": 11,
   "metadata": {},
   "outputs": [
    {
     "data": {
      "text/html": [
       "<div>\n",
       "<style scoped>\n",
       "    .dataframe tbody tr th:only-of-type {\n",
       "        vertical-align: middle;\n",
       "    }\n",
       "\n",
       "    .dataframe tbody tr th {\n",
       "        vertical-align: top;\n",
       "    }\n",
       "\n",
       "    .dataframe thead th {\n",
       "        text-align: right;\n",
       "    }\n",
       "</style>\n",
       "<table border=\"1\" class=\"dataframe\">\n",
       "  <thead>\n",
       "    <tr style=\"text-align: right;\">\n",
       "      <th></th>\n",
       "      <th>timestamp</th>\n",
       "      <th>type</th>\n",
       "      <th>source_ip</th>\n",
       "      <th>source_port</th>\n",
       "      <th>destination_ip</th>\n",
       "      <th>destination_port</th>\n",
       "      <th>protocol</th>\n",
       "      <th>packet_size</th>\n",
       "    </tr>\n",
       "  </thead>\n",
       "  <tbody>\n",
       "    <tr>\n",
       "      <th>0</th>\n",
       "      <td>1.669869e+09</td>\n",
       "      <td>IP</td>\n",
       "      <td>172.16.42.215</td>\n",
       "      <td>48540</td>\n",
       "      <td>13.226.237.229</td>\n",
       "      <td>443</td>\n",
       "      <td>6</td>\n",
       "      <td>0</td>\n",
       "    </tr>\n",
       "    <tr>\n",
       "      <th>1</th>\n",
       "      <td>1.669869e+09</td>\n",
       "      <td>IP</td>\n",
       "      <td>13.226.237.229</td>\n",
       "      <td>443</td>\n",
       "      <td>172.16.42.215</td>\n",
       "      <td>48540</td>\n",
       "      <td>6</td>\n",
       "      <td>1428</td>\n",
       "    </tr>\n",
       "    <tr>\n",
       "      <th>2</th>\n",
       "      <td>1.669869e+09</td>\n",
       "      <td>IP</td>\n",
       "      <td>13.226.237.229</td>\n",
       "      <td>443</td>\n",
       "      <td>172.16.42.215</td>\n",
       "      <td>48540</td>\n",
       "      <td>6</td>\n",
       "      <td>1428</td>\n",
       "    </tr>\n",
       "    <tr>\n",
       "      <th>3</th>\n",
       "      <td>1.669869e+09</td>\n",
       "      <td>IP</td>\n",
       "      <td>13.226.237.229</td>\n",
       "      <td>443</td>\n",
       "      <td>172.16.42.215</td>\n",
       "      <td>48540</td>\n",
       "      <td>6</td>\n",
       "      <td>1428</td>\n",
       "    </tr>\n",
       "    <tr>\n",
       "      <th>4</th>\n",
       "      <td>1.669869e+09</td>\n",
       "      <td>IP</td>\n",
       "      <td>13.226.237.229</td>\n",
       "      <td>443</td>\n",
       "      <td>172.16.42.215</td>\n",
       "      <td>48540</td>\n",
       "      <td>6</td>\n",
       "      <td>1428</td>\n",
       "    </tr>\n",
       "    <tr>\n",
       "      <th>...</th>\n",
       "      <td>...</td>\n",
       "      <td>...</td>\n",
       "      <td>...</td>\n",
       "      <td>...</td>\n",
       "      <td>...</td>\n",
       "      <td>...</td>\n",
       "      <td>...</td>\n",
       "      <td>...</td>\n",
       "    </tr>\n",
       "    <tr>\n",
       "      <th>15416</th>\n",
       "      <td>1.669869e+09</td>\n",
       "      <td>IP</td>\n",
       "      <td>172.16.42.226</td>\n",
       "      <td>59300</td>\n",
       "      <td>172.16.42.1</td>\n",
       "      <td>1471</td>\n",
       "      <td>6</td>\n",
       "      <td>0</td>\n",
       "    </tr>\n",
       "    <tr>\n",
       "      <th>15417</th>\n",
       "      <td>1.669869e+09</td>\n",
       "      <td>IP</td>\n",
       "      <td>172.16.42.226</td>\n",
       "      <td>57770</td>\n",
       "      <td>23.217.138.110</td>\n",
       "      <td>443</td>\n",
       "      <td>6</td>\n",
       "      <td>0</td>\n",
       "    </tr>\n",
       "    <tr>\n",
       "      <th>15418</th>\n",
       "      <td>1.669869e+09</td>\n",
       "      <td>IP</td>\n",
       "      <td>162.159.134.234</td>\n",
       "      <td>443</td>\n",
       "      <td>172.16.42.226</td>\n",
       "      <td>60486</td>\n",
       "      <td>6</td>\n",
       "      <td>104</td>\n",
       "    </tr>\n",
       "    <tr>\n",
       "      <th>15419</th>\n",
       "      <td>1.669869e+09</td>\n",
       "      <td>IP</td>\n",
       "      <td>172.16.42.226</td>\n",
       "      <td>60486</td>\n",
       "      <td>162.159.134.234</td>\n",
       "      <td>443</td>\n",
       "      <td>6</td>\n",
       "      <td>0</td>\n",
       "    </tr>\n",
       "    <tr>\n",
       "      <th>15420</th>\n",
       "      <td>1.669869e+09</td>\n",
       "      <td>IP</td>\n",
       "      <td>162.159.134.234</td>\n",
       "      <td>443</td>\n",
       "      <td>172.16.42.226</td>\n",
       "      <td>60486</td>\n",
       "      <td>6</td>\n",
       "      <td>111</td>\n",
       "    </tr>\n",
       "  </tbody>\n",
       "</table>\n",
       "<p>15421 rows × 8 columns</p>\n",
       "</div>"
      ],
      "text/plain": [
       "          timestamp type        source_ip  source_port   destination_ip  \\\n",
       "0      1.669869e+09   IP    172.16.42.215        48540   13.226.237.229   \n",
       "1      1.669869e+09   IP   13.226.237.229          443    172.16.42.215   \n",
       "2      1.669869e+09   IP   13.226.237.229          443    172.16.42.215   \n",
       "3      1.669869e+09   IP   13.226.237.229          443    172.16.42.215   \n",
       "4      1.669869e+09   IP   13.226.237.229          443    172.16.42.215   \n",
       "...             ...  ...              ...          ...              ...   \n",
       "15416  1.669869e+09   IP    172.16.42.226        59300      172.16.42.1   \n",
       "15417  1.669869e+09   IP    172.16.42.226        57770   23.217.138.110   \n",
       "15418  1.669869e+09   IP  162.159.134.234          443    172.16.42.226   \n",
       "15419  1.669869e+09   IP    172.16.42.226        60486  162.159.134.234   \n",
       "15420  1.669869e+09   IP  162.159.134.234          443    172.16.42.226   \n",
       "\n",
       "       destination_port  protocol  packet_size  \n",
       "0                   443         6            0  \n",
       "1                 48540         6         1428  \n",
       "2                 48540         6         1428  \n",
       "3                 48540         6         1428  \n",
       "4                 48540         6         1428  \n",
       "...                 ...       ...          ...  \n",
       "15416              1471         6            0  \n",
       "15417               443         6            0  \n",
       "15418             60486         6          104  \n",
       "15419               443         6            0  \n",
       "15420             60486         6          111  \n",
       "\n",
       "[15421 rows x 8 columns]"
      ]
     },
     "execution_count": 11,
     "metadata": {},
     "output_type": "execute_result"
    }
   ],
   "source": [
    "data = pd.read_csv('data/playing_music/playing_music.csv')\n",
    "data"
   ]
  },
  {
   "cell_type": "code",
   "execution_count": 12,
   "metadata": {},
   "outputs": [
    {
     "data": {
      "text/html": [
       "<div>\n",
       "<style scoped>\n",
       "    .dataframe tbody tr th:only-of-type {\n",
       "        vertical-align: middle;\n",
       "    }\n",
       "\n",
       "    .dataframe tbody tr th {\n",
       "        vertical-align: top;\n",
       "    }\n",
       "\n",
       "    .dataframe thead th {\n",
       "        text-align: right;\n",
       "    }\n",
       "</style>\n",
       "<table border=\"1\" class=\"dataframe\">\n",
       "  <thead>\n",
       "    <tr style=\"text-align: right;\">\n",
       "      <th></th>\n",
       "      <th>timestamp</th>\n",
       "      <th>type</th>\n",
       "      <th>source_ip</th>\n",
       "      <th>source_port</th>\n",
       "      <th>destination_ip</th>\n",
       "      <th>destination_port</th>\n",
       "      <th>protocol</th>\n",
       "      <th>packet_size</th>\n",
       "    </tr>\n",
       "  </thead>\n",
       "  <tbody>\n",
       "    <tr>\n",
       "      <th>0</th>\n",
       "      <td>1.669869e+09</td>\n",
       "      <td>IP</td>\n",
       "      <td>172.16.42.215</td>\n",
       "      <td>48540</td>\n",
       "      <td>13.226.237.229</td>\n",
       "      <td>443</td>\n",
       "      <td>6</td>\n",
       "      <td>0</td>\n",
       "    </tr>\n",
       "    <tr>\n",
       "      <th>1</th>\n",
       "      <td>1.669869e+09</td>\n",
       "      <td>IP</td>\n",
       "      <td>13.226.237.229</td>\n",
       "      <td>443</td>\n",
       "      <td>172.16.42.215</td>\n",
       "      <td>48540</td>\n",
       "      <td>6</td>\n",
       "      <td>1428</td>\n",
       "    </tr>\n",
       "    <tr>\n",
       "      <th>2</th>\n",
       "      <td>1.669869e+09</td>\n",
       "      <td>IP</td>\n",
       "      <td>13.226.237.229</td>\n",
       "      <td>443</td>\n",
       "      <td>172.16.42.215</td>\n",
       "      <td>48540</td>\n",
       "      <td>6</td>\n",
       "      <td>1428</td>\n",
       "    </tr>\n",
       "    <tr>\n",
       "      <th>3</th>\n",
       "      <td>1.669869e+09</td>\n",
       "      <td>IP</td>\n",
       "      <td>13.226.237.229</td>\n",
       "      <td>443</td>\n",
       "      <td>172.16.42.215</td>\n",
       "      <td>48540</td>\n",
       "      <td>6</td>\n",
       "      <td>1428</td>\n",
       "    </tr>\n",
       "    <tr>\n",
       "      <th>4</th>\n",
       "      <td>1.669869e+09</td>\n",
       "      <td>IP</td>\n",
       "      <td>13.226.237.229</td>\n",
       "      <td>443</td>\n",
       "      <td>172.16.42.215</td>\n",
       "      <td>48540</td>\n",
       "      <td>6</td>\n",
       "      <td>1428</td>\n",
       "    </tr>\n",
       "    <tr>\n",
       "      <th>...</th>\n",
       "      <td>...</td>\n",
       "      <td>...</td>\n",
       "      <td>...</td>\n",
       "      <td>...</td>\n",
       "      <td>...</td>\n",
       "      <td>...</td>\n",
       "      <td>...</td>\n",
       "      <td>...</td>\n",
       "    </tr>\n",
       "    <tr>\n",
       "      <th>15341</th>\n",
       "      <td>1.669869e+09</td>\n",
       "      <td>IP</td>\n",
       "      <td>172.16.42.215</td>\n",
       "      <td>48540</td>\n",
       "      <td>13.226.237.229</td>\n",
       "      <td>443</td>\n",
       "      <td>6</td>\n",
       "      <td>0</td>\n",
       "    </tr>\n",
       "    <tr>\n",
       "      <th>15342</th>\n",
       "      <td>1.669869e+09</td>\n",
       "      <td>IP</td>\n",
       "      <td>172.16.42.215</td>\n",
       "      <td>48540</td>\n",
       "      <td>13.226.237.229</td>\n",
       "      <td>443</td>\n",
       "      <td>6</td>\n",
       "      <td>0</td>\n",
       "    </tr>\n",
       "    <tr>\n",
       "      <th>15357</th>\n",
       "      <td>1.669869e+09</td>\n",
       "      <td>IP</td>\n",
       "      <td>75.2.39.155</td>\n",
       "      <td>443</td>\n",
       "      <td>172.16.42.215</td>\n",
       "      <td>41134</td>\n",
       "      <td>6</td>\n",
       "      <td>46</td>\n",
       "    </tr>\n",
       "    <tr>\n",
       "      <th>15358</th>\n",
       "      <td>1.669869e+09</td>\n",
       "      <td>IP</td>\n",
       "      <td>172.16.42.215</td>\n",
       "      <td>41134</td>\n",
       "      <td>75.2.39.155</td>\n",
       "      <td>443</td>\n",
       "      <td>6</td>\n",
       "      <td>46</td>\n",
       "    </tr>\n",
       "    <tr>\n",
       "      <th>15359</th>\n",
       "      <td>1.669869e+09</td>\n",
       "      <td>IP</td>\n",
       "      <td>75.2.39.155</td>\n",
       "      <td>443</td>\n",
       "      <td>172.16.42.215</td>\n",
       "      <td>41134</td>\n",
       "      <td>6</td>\n",
       "      <td>0</td>\n",
       "    </tr>\n",
       "  </tbody>\n",
       "</table>\n",
       "<p>14593 rows × 8 columns</p>\n",
       "</div>"
      ],
      "text/plain": [
       "          timestamp type       source_ip  source_port  destination_ip  \\\n",
       "0      1.669869e+09   IP   172.16.42.215        48540  13.226.237.229   \n",
       "1      1.669869e+09   IP  13.226.237.229          443   172.16.42.215   \n",
       "2      1.669869e+09   IP  13.226.237.229          443   172.16.42.215   \n",
       "3      1.669869e+09   IP  13.226.237.229          443   172.16.42.215   \n",
       "4      1.669869e+09   IP  13.226.237.229          443   172.16.42.215   \n",
       "...             ...  ...             ...          ...             ...   \n",
       "15341  1.669869e+09   IP   172.16.42.215        48540  13.226.237.229   \n",
       "15342  1.669869e+09   IP   172.16.42.215        48540  13.226.237.229   \n",
       "15357  1.669869e+09   IP     75.2.39.155          443   172.16.42.215   \n",
       "15358  1.669869e+09   IP   172.16.42.215        41134     75.2.39.155   \n",
       "15359  1.669869e+09   IP     75.2.39.155          443   172.16.42.215   \n",
       "\n",
       "       destination_port  protocol  packet_size  \n",
       "0                   443         6            0  \n",
       "1                 48540         6         1428  \n",
       "2                 48540         6         1428  \n",
       "3                 48540         6         1428  \n",
       "4                 48540         6         1428  \n",
       "...                 ...       ...          ...  \n",
       "15341               443         6            0  \n",
       "15342               443         6            0  \n",
       "15357             41134         6           46  \n",
       "15358               443         6           46  \n",
       "15359             41134         6            0  \n",
       "\n",
       "[14593 rows x 8 columns]"
      ]
     },
     "execution_count": 12,
     "metadata": {},
     "output_type": "execute_result"
    }
   ],
   "source": [
    "# filter out the ip we need\n",
    "filtered_data = data[(data['source_ip'] == '172.16.42.215') | (data['destination_ip'] == '172.16.42.215')]\n",
    "filtered_data"
   ]
  },
  {
   "cell_type": "code",
   "execution_count": 13,
   "metadata": {},
   "outputs": [
    {
     "data": {
      "text/plain": [
       "172.16.42.215     8126\n",
       "13.226.237.229    6454\n",
       "75.2.39.155          5\n",
       "18.154.207.53        5\n",
       "34.192.185.206       2\n",
       "172.16.42.1          1\n",
       "Name: destination_ip, dtype: int64"
      ]
     },
     "execution_count": 13,
     "metadata": {},
     "output_type": "execute_result"
    }
   ],
   "source": [
    "filtered_data['destination_ip'].value_counts()"
   ]
  },
  {
   "cell_type": "code",
   "execution_count": 14,
   "metadata": {},
   "outputs": [
    {
     "data": {
      "text/plain": [
       "13.226.237.229    8111\n",
       "172.16.42.215     6467\n",
       "75.2.39.155          8\n",
       "18.154.207.53        5\n",
       "34.192.185.206       1\n",
       "172.16.42.1          1\n",
       "Name: source_ip, dtype: int64"
      ]
     },
     "execution_count": 14,
     "metadata": {},
     "output_type": "execute_result"
    }
   ],
   "source": [
    "filtered_data['source_ip'].value_counts()"
   ]
  },
  {
   "cell_type": "code",
   "execution_count": 15,
   "metadata": {},
   "outputs": [
    {
     "name": "stderr",
     "output_type": "stream",
     "text": [
      "/tmp/ipykernel_85398/1983441686.py:2: SettingWithCopyWarning: \n",
      "A value is trying to be set on a copy of a slice from a DataFrame.\n",
      "Try using .loc[row_indexer,col_indexer] = value instead\n",
      "\n",
      "See the caveats in the documentation: https://pandas.pydata.org/pandas-docs/stable/user_guide/indexing.html#returning-a-view-versus-a-copy\n",
      "  filtered_data['timestamp'] = filtered_data['timestamp'].round(0).astype(int)\n"
     ]
    }
   ],
   "source": [
    "# round the timestamps to the nearest second and group by timestamp\n",
    "filtered_data['timestamp'] = filtered_data['timestamp'].round(0).astype(int)"
   ]
  },
  {
   "cell_type": "code",
   "execution_count": 16,
   "metadata": {},
   "outputs": [
    {
     "data": {
      "text/plain": [
       "(array([1669868991, 1669868992, 1669868993, 1669868995, 1669868996,\n",
       "        1669868997, 1669868998, 1669869015, 1669869016, 1669869017,\n",
       "        1669869018, 1669869025, 1669869026, 1669869027, 1669869034,\n",
       "        1669869035, 1669869036, 1669869044, 1669869045, 1669869046,\n",
       "        1669869053, 1669869054, 1669869055, 1669869058, 1669869063,\n",
       "        1669869064, 1669869065, 1669869073, 1669869074, 1669869075,\n",
       "        1669869076, 1669869083, 1669869084, 1669869085, 1669869086,\n",
       "        1669869092, 1669869093, 1669869094, 1669869095, 1669869102,\n",
       "        1669869103, 1669869104, 1669869105]),\n",
       " array([  55,   66,    1,    1,  509,  535,  341,    4,  393,  647,  451,\n",
       "         528,  594,  197,  427,  439,  439,  218,  667,  481,   51,  795,\n",
       "         342,    3,  359,  714,  314,    3,  618,  242,  363,  204,  560,\n",
       "         550,   67,   12,   63,  674,  438,   62, 1036,  127,    3]))"
      ]
     },
     "execution_count": 16,
     "metadata": {},
     "output_type": "execute_result"
    }
   ],
   "source": [
    "timestamps = filtered_data['timestamp'].value_counts().sort_index().index.to_numpy()\n",
    "counts = filtered_data['timestamp'].value_counts().sort_index().values\n",
    "timestamps, counts"
   ]
  },
  {
   "cell_type": "code",
   "execution_count": 18,
   "metadata": {},
   "outputs": [
    {
     "data": {
      "text/plain": [
       "114"
      ]
     },
     "execution_count": 18,
     "metadata": {},
     "output_type": "execute_result"
    }
   ],
   "source": [
    "timestamps[-1] - timestamps[0]"
   ]
  },
  {
   "cell_type": "code",
   "execution_count": 17,
   "metadata": {},
   "outputs": [
    {
     "data": {
      "text/plain": [
       "[<matplotlib.lines.Line2D at 0x7f98de0c9310>]"
      ]
     },
     "execution_count": 17,
     "metadata": {},
     "output_type": "execute_result"
    },
    {
     "data": {
      "image/png": "[encoded data removed]",
      "text/plain": [
       "<Figure size 432x288 with 1 Axes>"
      ]
     },
     "metadata": {
      "needs_background": "light"
     },
     "output_type": "display_data"
    }
   ],
   "source": [
    "plt.plot(timestamps, counts)"
   ]
  },
  {
   "cell_type": "code",
   "execution_count": null,
   "metadata": {},
   "outputs": [],
   "source": []
  }
 ],
 "metadata": {
  "kernelspec": {
   "display_name": "Python 3 (ipykernel)",
   "language": "python",
   "name": "python3"
  },
  "language_info": {
   "codemirror_mode": {
    "name": "ipython",
    "version": 3
   },
   "file_extension": ".py",
   "mimetype": "text/x-python",
   "name": "python",
   "nbconvert_exporter": "python",
   "pygments_lexer": "ipython3",
   "version": "3.9.5"
  },
  "vscode": {
   "interpreter": {
    "hash": "ecaa4b08980a5d04d4af94a32d5f0469dac1dbb59b366d7819735041ffe2c2a5"
   }
  }
 },
 "nbformat": 4,
 "nbformat_minor": 2
}
