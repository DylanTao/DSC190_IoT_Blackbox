{
 "cells": [
  {
   "cell_type": "code",
   "execution_count": 507,
   "id": "caef4bc3",
   "metadata": {},
   "outputs": [],
   "source": [
    "import pandas as pd\n",
    "import numpy as np\n",
    "## Uncomment to get rid of warnings\n",
    "#import warnings\n",
    "#warnings.filterwarnings('ignore') \n",
    "\n",
    "from sklearn.preprocessing import OneHotEncoder\n",
    "from sklearn.model_selection import StratifiedKFold\n",
    "\n",
    "from sklearn.ensemble import RandomForestClassifier\n",
    "from sklearn.ensemble import GradientBoostingClassifier\n",
    "from sklearn.tree import DecisionTreeClassifier\n",
    "\n",
    "from sklearn.neighbors import KNeighborsClassifier\n",
    "\n",
    "from sklearn.metrics import roc_auc_score\n",
    "from sklearn.metrics import precision_recall_curve, average_precision_score, auc\n",
    "\n",
    "import matplotlib.pyplot as plt\n",
    "from matplotlib.lines import Line2D"
   ]
  },
  {
   "cell_type": "code",
   "execution_count": null,
   "id": "aa256c45",
   "metadata": {},
   "outputs": [],
   "source": []
  },
  {
   "cell_type": "code",
   "execution_count": 508,
   "id": "37cdaa5c",
   "metadata": {},
   "outputs": [],
   "source": [
    "## READ DATA ##\n",
    "data_types = ['packet', 'power']\n",
    "modes = ['baseline', 'music', 'mute', 'questions']\n",
    "datasets = {}\n",
    "\n",
    "for mode in modes:\n",
    "    for data_type in data_types:\n",
    "        dataset_name = '_'.join([data_type, mode]) \n",
    "        path = 'data/' + mode + '/' + dataset_name + '.csv'\n",
    "        datasets[dataset_name] = pd.read_csv(path)"
   ]
  },
  {
   "cell_type": "code",
   "execution_count": 509,
   "id": "6a675996",
   "metadata": {},
   "outputs": [],
   "source": [
    "## CLEAN DATA, BUILD FEATURES ##\n",
    "\n",
    "for name, dataset in datasets.items(): \n",
    "    if 'packet' == name[:len('packet')]:\n",
    "        \n",
    "        dataset['timestamp'] = dataset['timestamp'].astype(int) #round timestamp\n",
    "        \n",
    "        dataset.loc[(dataset['source_ip'] != '172.16.42.215') & \n",
    "                     (dataset['destination_ip'] != '172.16.42.215'),\n",
    "                    'packet_size'] = np.NaN #filter IP\n",
    "        \n",
    "        datasets[name] = dataset.groupby('timestamp').agg(packet_volume=('packet_size', 'count'), #extract features\n",
    "                                                  packet_size=('packet_size', 'sum'))\n",
    "        \n",
    "    if 'power' == name[:len('power')]:\n",
    "        datasets[name] = dataset.set_index('time')\n",
    "        "
   ]
  },
  {
   "cell_type": "code",
   "execution_count": 510,
   "id": "276c3b50",
   "metadata": {},
   "outputs": [],
   "source": [
    "## COMBINE POWER AND PACKET DATA FOR EACH ALEXA MODE ##\n",
    "mode_data = {}\n",
    "for mode in modes:\n",
    "    power = datasets['power_'+mode]\n",
    "    packet = datasets['packet_'+mode]\n",
    "    combined = packet.join(power, how='inner').dropna()\n",
    "    mode_data[mode] = combined\n",
    "    "
   ]
  },
  {
   "cell_type": "code",
   "execution_count": 511,
   "id": "ac5c55e1",
   "metadata": {},
   "outputs": [
    {
     "data": {
      "text/html": [
       "<div>\n",
       "<style scoped>\n",
       "    .dataframe tbody tr th:only-of-type {\n",
       "        vertical-align: middle;\n",
       "    }\n",
       "\n",
       "    .dataframe tbody tr th {\n",
       "        vertical-align: top;\n",
       "    }\n",
       "\n",
       "    .dataframe thead th {\n",
       "        text-align: right;\n",
       "    }\n",
       "</style>\n",
       "<table border=\"1\" class=\"dataframe\">\n",
       "  <thead>\n",
       "    <tr style=\"text-align: right;\">\n",
       "      <th></th>\n",
       "      <th>packet_volume</th>\n",
       "      <th>packet_size</th>\n",
       "      <th>apower</th>\n",
       "      <th>voltage</th>\n",
       "      <th>current</th>\n",
       "      <th>state</th>\n",
       "    </tr>\n",
       "  </thead>\n",
       "  <tbody>\n",
       "    <tr>\n",
       "      <th>1669868508</th>\n",
       "      <td>0</td>\n",
       "      <td>0.0</td>\n",
       "      <td>1.4</td>\n",
       "      <td>120.2</td>\n",
       "      <td>0.029</td>\n",
       "      <td>baseline</td>\n",
       "    </tr>\n",
       "    <tr>\n",
       "      <th>1669868509</th>\n",
       "      <td>0</td>\n",
       "      <td>0.0</td>\n",
       "      <td>1.4</td>\n",
       "      <td>120.2</td>\n",
       "      <td>0.028</td>\n",
       "      <td>baseline</td>\n",
       "    </tr>\n",
       "    <tr>\n",
       "      <th>1669868510</th>\n",
       "      <td>0</td>\n",
       "      <td>0.0</td>\n",
       "      <td>1.4</td>\n",
       "      <td>120.2</td>\n",
       "      <td>0.028</td>\n",
       "      <td>baseline</td>\n",
       "    </tr>\n",
       "    <tr>\n",
       "      <th>1669868511</th>\n",
       "      <td>0</td>\n",
       "      <td>0.0</td>\n",
       "      <td>1.5</td>\n",
       "      <td>120.2</td>\n",
       "      <td>0.028</td>\n",
       "      <td>baseline</td>\n",
       "    </tr>\n",
       "    <tr>\n",
       "      <th>1669868512</th>\n",
       "      <td>3</td>\n",
       "      <td>64.0</td>\n",
       "      <td>1.5</td>\n",
       "      <td>120.2</td>\n",
       "      <td>0.028</td>\n",
       "      <td>baseline</td>\n",
       "    </tr>\n",
       "  </tbody>\n",
       "</table>\n",
       "</div>"
      ],
      "text/plain": [
       "            packet_volume  packet_size  apower  voltage  current     state\n",
       "1669868508              0          0.0     1.4    120.2    0.029  baseline\n",
       "1669868509              0          0.0     1.4    120.2    0.028  baseline\n",
       "1669868510              0          0.0     1.4    120.2    0.028  baseline\n",
       "1669868511              0          0.0     1.5    120.2    0.028  baseline\n",
       "1669868512              3         64.0     1.5    120.2    0.028  baseline"
      ]
     },
     "execution_count": 511,
     "metadata": {},
     "output_type": "execute_result"
    }
   ],
   "source": [
    "## COMBINE INTO FULL DATASET ##\n",
    "data = None\n",
    "for mode in modes:\n",
    "    data = pd.concat([data, mode_data[mode]], axis=0)\n",
    "\n",
    "states = pd.get_dummies(data['state'])\n",
    "data.head()"
   ]
  },
  {
   "cell_type": "code",
   "execution_count": 512,
   "id": "a36bd3d2",
   "metadata": {},
   "outputs": [],
   "source": [
    "def plot_confidence_interval(x, values, z=1.96, color='#2187bb', horizontal_line_width=0.25, axes=None):\n",
    "    mean = np.mean(values)\n",
    "    stdev = np.std(values)\n",
    "    confidence_interval = z * stdev / (len(values)**(1/2))\n",
    "\n",
    "    left = x - horizontal_line_width / 2\n",
    "    top = mean - confidence_interval\n",
    "    right = x + horizontal_line_width / 2\n",
    "    bottom = mean + confidence_interval\n",
    "    \n",
    "    axes.plot([x, x], [top, bottom], color=color)\n",
    "    axes.plot([left, right], [top, top], color=color)\n",
    "    axes.plot([left, right], [bottom, bottom], color=color)\n",
    "    axes.plot(x, mean, '.', color=color)\n",
    "\n",
    "    return mean, confidence_interval\n",
    "\n",
    "\n",
    "def plot_baseline(proportion, x, color='#2187bb', horizontal_line_width=0.25, axes=None):\n",
    "    left = x  - horizontal_line_width / 2\n",
    "    right = x  + horizontal_line_width / 2\n",
    "    \n",
    "    axes.plot([left, right], [proportion, proportion], color=color)\n",
    "\n",
    "    return"
   ]
  },
  {
   "cell_type": "code",
   "execution_count": 513,
   "id": "1aee873f",
   "metadata": {},
   "outputs": [],
   "source": [
    "## BUILD MODEL ##\n",
    "\n",
    "#TODO: define cross validation hyperparams\n",
    "n_splits = 10\n",
    "skf_random = 0 #DO NOT TOUCH\n",
    "shuffle=True\n",
    "#TODO: define model hyperparams, can automate tuning later\n",
    "loss = 'exponential'\n",
    "learning_rate = 0.1\n",
    "n_estimators = 100\n",
    "max_depth = 3\n",
    "clf_random = 0 #DO NOT TOUCH\n",
    "\n",
    "#TODO: implement model(s)\n",
    "skf = StratifiedKFold(n_splits=n_splits, random_state=skf_random, shuffle=shuffle)\n",
    "\n",
    "#clf = RandomForestClassifier(n_estimators=n_estimators, max_depth=max_depth, random_state=clf_random)\n",
    "clf = GradientBoostingClassifier(loss=loss, learning_rate=learning_rate, n_estimators=n_estimators, max_depth=max_depth, random_state=clf_random)"
   ]
  },
  {
   "cell_type": "code",
   "execution_count": 514,
   "id": "083b3a59",
   "metadata": {},
   "outputs": [
    {
     "data": {
      "text/plain": [
       "Text(0.5, 1.0, 'AUPR')"
      ]
     },
     "execution_count": 514,
     "metadata": {},
     "output_type": "execute_result"
    },
    {
     "data": {
      "image/png": "[encoded data removed]",
      "text/plain": [
       "<Figure size 432x288 with 2 Axes>"
      ]
     },
     "metadata": {
      "needs_background": "light"
     },
     "output_type": "display_data"
    }
   ],
   "source": [
    "## INITIALIZE PLOT ##\n",
    "fig, ax = plt.subplots(nrows=2, ncols=1, sharex=True, sharey=True)\n",
    "\n",
    "y_ticks = plt.yticks(np.arange(11)/10)\n",
    "x_ticks = plt.xticks(np.arange(1, len(states.columns)+1), states.columns)\n",
    "\n",
    "plt.ylabel('Area Under Curve', fontsize='large')\n",
    "plt.autoscale(enable = False, tight=False, axis = 'y')\n",
    "ax[0].set_title('AUROC')\n",
    "ax[1].set_title('AUPR')"
   ]
  },
  {
   "cell_type": "code",
   "execution_count": 515,
   "id": "76a2414d",
   "metadata": {},
   "outputs": [],
   "source": [
    "## AUTOMATION TIME! ##\n",
    "X = data.drop('state', axis=1)\n",
    "for i, state in enumerate(states.columns, start=1):\n",
    "\n",
    "    y = states[state]\n",
    "    proportion = y.mean()\n",
    "\n",
    "    auroc_plt_data = np.array([])\n",
    "    aupr_plt_data = np.array([])\n",
    "\n",
    "    for train_index, val_index in skf.split(X, y):\n",
    "        train_X, train_y = X.iloc[train_index], y.iloc[train_index]\n",
    "        val_X, val_y = X.iloc[val_index], y.iloc[val_index]\n",
    "\n",
    "        clf.fit(train_X, train_y) #re-fit model\n",
    "\n",
    "        preds = clf.predict_proba(val_X)[:,1] #predict, probability of positive class predict\n",
    "\n",
    "        auroc = roc_auc_score(val_y, preds)\n",
    "        aupr = average_precision_score(val_y, preds)\n",
    "\n",
    "        auroc_plt_data = np.append(auroc_plt_data, auroc)\n",
    "        aupr_plt_data = np.append(aupr_plt_data, aupr)\n",
    "\n",
    "    plot_confidence_interval(i, auroc_plt_data, axes=ax[0]) #AUROC plot\n",
    "    plot_confidence_interval(i, aupr_plt_data, axes=ax[1]) #AUPR plot\n",
    "    plot_baseline(proportion=proportion, x=i, axes=ax[1]) #AUPR baselines"
   ]
  },
  {
   "cell_type": "code",
   "execution_count": 516,
   "id": "fde47475",
   "metadata": {},
   "outputs": [
    {
     "data": {
      "image/png": "[encoded data removed]",
      "text/plain": [
       "<Figure size 432x288 with 2 Axes>"
      ]
     },
     "execution_count": 516,
     "metadata": {},
     "output_type": "execute_result"
    }
   ],
   "source": [
    "fig"
   ]
  },
  {
   "cell_type": "code",
   "execution_count": null,
   "id": "ff149e32",
   "metadata": {},
   "outputs": [],
   "source": []
  },
  {
   "cell_type": "code",
   "execution_count": 517,
   "id": "d12c20cf",
   "metadata": {},
   "outputs": [],
   "source": [
    "## BUILD MODEL ##\n",
    "\n",
    "#TODO: define cross validation hyperparams\n",
    "n_splits = 10\n",
    "skf_random = 0 #DO NOT TOUCH\n",
    "shuffle=True\n",
    "#TODO: define model hyperparams, can automate tuning later\n",
    "loss = 'exponential'\n",
    "learning_rate = 0.1\n",
    "n_estimators = 100\n",
    "max_depth = 3\n",
    "clf_random = 0 #DO NOT TOUCH\n",
    "\n",
    "#TODO: implement model(s)\n",
    "skf = StratifiedKFold(n_splits=n_splits, random_state=skf_random, shuffle=shuffle)\n",
    "\n",
    "\n",
    "models = {\n",
    "    'Random Forest': RandomForestClassifier(n_estimators=n_estimators, max_depth=max_depth, random_state=clf_random),\n",
    "    'Decistion Tree': DecisionTreeClassifier(splitter='best', max_depth=max_depth, random_state=clf_random),\n",
    "    'Nearest Neighbors': KNeighborsClassifier()\n",
    "}"
   ]
  },
  {
   "cell_type": "code",
   "execution_count": 518,
   "id": "94241cb4",
   "metadata": {},
   "outputs": [
    {
     "data": {
      "text/plain": [
       "Text(0.5, 1.0, '')"
      ]
     },
     "execution_count": 518,
     "metadata": {},
     "output_type": "execute_result"
    },
    {
     "data": {
      "image/png": "[encoded data removed]",
      "text/plain": [
       "<Figure size 432x288 with 1 Axes>"
      ]
     },
     "metadata": {
      "needs_background": "light"
     },
     "output_type": "display_data"
    }
   ],
   "source": [
    "## INITIALIZE PLOT ##\n",
    "fig2, ax2 = plt.subplots()\n",
    "\n",
    "y_ticks = plt.yticks(np.arange(11)/10)\n",
    "x_ticks = plt.xticks(np.arange(1, len(models)+1), models.keys())\n",
    "\n",
    "plt.ylabel('Accuracy', fontsize='large')\n",
    "plt.autoscale(enable = False, tight=False, axis = 'y')\n",
    "ax2.set_title('')"
   ]
  },
  {
   "cell_type": "code",
   "execution_count": 519,
   "id": "0579889f",
   "metadata": {},
   "outputs": [],
   "source": [
    "X = data.drop('state', axis=1)\n",
    "\n",
    "y = data['state']\n",
    "\n",
    "for i, model in enumerate(models.values(), start=1):\n",
    "    clf = model\n",
    "    \n",
    "    accuracy_plt_data = np.array([])\n",
    "\n",
    "    for train_index, val_index in skf.split(X, y):\n",
    "        train_X, train_y = X.iloc[train_index], y.iloc[train_index]\n",
    "        val_X, val_y = X.iloc[val_index], y.iloc[val_index]\n",
    "\n",
    "        clf.fit(train_X, train_y) #re-fit model\n",
    "\n",
    "        preds = clf.predict(val_X)\n",
    "\n",
    "        accuracy = (preds == val_y).mean()\n",
    "        accuracy_plt_data = np.append(accuracy_plt_data, accuracy)\n",
    "\n",
    "    plot_confidence_interval(i, accuracy_plt_data, axes=ax2)"
   ]
  },
  {
   "cell_type": "code",
   "execution_count": 520,
   "id": "24d0a94c",
   "metadata": {},
   "outputs": [
    {
     "data": {
      "image/png": "[encoded data removed]",
      "text/plain": [
       "<Figure size 432x288 with 1 Axes>"
      ]
     },
     "execution_count": 520,
     "metadata": {},
     "output_type": "execute_result"
    }
   ],
   "source": [
    "fig2"
   ]
  },
  {
   "cell_type": "code",
   "execution_count": null,
   "id": "8422758c",
   "metadata": {},
   "outputs": [],
   "source": []
  }
 ],
 "metadata": {
  "kernelspec": {
   "display_name": "Python 3 (ipykernel)",
   "language": "python",
   "name": "python3"
  },
  "language_info": {
   "codemirror_mode": {
    "name": "ipython",
    "version": 3
   },
   "file_extension": ".py",
   "mimetype": "text/x-python",
   "name": "python",
   "nbconvert_exporter": "python",
   "pygments_lexer": "ipython3",
   "version": "3.9.5"
  }
 },
 "nbformat": 4,
 "nbformat_minor": 5
}
