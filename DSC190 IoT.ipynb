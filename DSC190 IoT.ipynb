{
 "cells": [
  {
   "cell_type": "code",
   "execution_count": 2,
   "id": "caef4bc3",
   "metadata": {},
   "outputs": [],
   "source": [
    "import pandas as pd\n",
    "import numpy as np\n",
    "import matplotlib.pyplot as plt"
   ]
  },
  {
   "cell_type": "code",
   "execution_count": 3,
   "id": "2d8a378f",
   "metadata": {},
   "outputs": [],
   "source": [
    "data_types = ['packet', 'power']\n",
    "modes = ['baseline', 'music', 'mute', 'questions']"
   ]
  },
  {
   "cell_type": "code",
   "execution_count": 10,
   "id": "5f326382",
   "metadata": {},
   "outputs": [
    {
     "name": "stdout",
     "output_type": "stream",
     "text": [
      "data/baseline/packet_baseline.csv\n",
      "data/baseline/power_baseline.csv\n",
      "data/music/packet_music.csv\n",
      "data/music/power_music.csv\n",
      "data/mute/packet_mute.csv\n",
      "data/mute/power_mute.csv\n",
      "data/questions/packet_questions.csv\n",
      "data/questions/power_questions.csv\n"
     ]
    }
   ],
   "source": [
    "for mode in modes:\n",
    "    for data_type in data_types:\n",
    "        path = 'data/' + mode + '/' +  '_'.join([data_type, mode]) + '.csv'\n",
    "        print(path)"
   ]
  },
  {
   "cell_type": "code",
   "execution_count": null,
   "id": "1baf6edb",
   "metadata": {},
   "outputs": [],
   "source": []
  },
  {
   "cell_type": "code",
   "execution_count": null,
   "id": "f7629e6b",
   "metadata": {},
   "outputs": [],
   "source": []
  },
  {
   "cell_type": "code",
   "execution_count": 11,
   "id": "ebe65b61",
   "metadata": {},
   "outputs": [],
   "source": [
    "power_baseline_path = 'data/baseline/power_baseline.csv'\n",
    "power_mute_path = 'data/music/power_music.csv'\n",
    "power_music_path = 'data/mute/power_mute.csv'\n",
    "power_questions_path = 'data/questions/power_questions.csv'"
   ]
  },
  {
   "cell_type": "code",
   "execution_count": 12,
   "id": "b0bf5f3a",
   "metadata": {},
   "outputs": [],
   "source": [
    "power_baseline = pd.read_csv(power_baseline_path)\n",
    "power_mute = pd.read_csv(power_mute_path)\n",
    "power_music = pd.read_csv(power_music_path)\n",
    "power_questions = pd.read_csv(power_questions_path)"
   ]
  },
  {
   "cell_type": "code",
   "execution_count": 14,
   "id": "dfeab71f",
   "metadata": {},
   "outputs": [],
   "source": [
    "power_baseline['state'] = 'baseline'\n",
    "power_mute['state'] = 'mute'\n",
    "power_music['state'] = 'music'\n",
    "power_questions['st']"
   ]
  },
  {
   "cell_type": "code",
   "execution_count": 15,
   "id": "e038450d",
   "metadata": {},
   "outputs": [
    {
     "data": {
      "text/html": [
       "<div>\n",
       "<style scoped>\n",
       "    .dataframe tbody tr th:only-of-type {\n",
       "        vertical-align: middle;\n",
       "    }\n",
       "\n",
       "    .dataframe tbody tr th {\n",
       "        vertical-align: top;\n",
       "    }\n",
       "\n",
       "    .dataframe thead th {\n",
       "        text-align: right;\n",
       "    }\n",
       "</style>\n",
       "<table border=\"1\" class=\"dataframe\">\n",
       "  <thead>\n",
       "    <tr style=\"text-align: right;\">\n",
       "      <th></th>\n",
       "      <th>apower</th>\n",
       "      <th>voltage</th>\n",
       "      <th>current</th>\n",
       "      <th>time</th>\n",
       "      <th>state</th>\n",
       "    </tr>\n",
       "  </thead>\n",
       "  <tbody>\n",
       "    <tr>\n",
       "      <th>0</th>\n",
       "      <td>1.4</td>\n",
       "      <td>120.3</td>\n",
       "      <td>0.029</td>\n",
       "      <td>1669868506</td>\n",
       "      <td>baseline</td>\n",
       "    </tr>\n",
       "    <tr>\n",
       "      <th>1</th>\n",
       "      <td>1.4</td>\n",
       "      <td>120.2</td>\n",
       "      <td>0.029</td>\n",
       "      <td>1669868507</td>\n",
       "      <td>baseline</td>\n",
       "    </tr>\n",
       "    <tr>\n",
       "      <th>2</th>\n",
       "      <td>1.4</td>\n",
       "      <td>120.2</td>\n",
       "      <td>0.029</td>\n",
       "      <td>1669868508</td>\n",
       "      <td>baseline</td>\n",
       "    </tr>\n",
       "    <tr>\n",
       "      <th>3</th>\n",
       "      <td>1.4</td>\n",
       "      <td>120.2</td>\n",
       "      <td>0.028</td>\n",
       "      <td>1669868509</td>\n",
       "      <td>baseline</td>\n",
       "    </tr>\n",
       "    <tr>\n",
       "      <th>4</th>\n",
       "      <td>1.4</td>\n",
       "      <td>120.2</td>\n",
       "      <td>0.028</td>\n",
       "      <td>1669868510</td>\n",
       "      <td>baseline</td>\n",
       "    </tr>\n",
       "    <tr>\n",
       "      <th>...</th>\n",
       "      <td>...</td>\n",
       "      <td>...</td>\n",
       "      <td>...</td>\n",
       "      <td>...</td>\n",
       "      <td>...</td>\n",
       "    </tr>\n",
       "    <tr>\n",
       "      <th>105</th>\n",
       "      <td>1.5</td>\n",
       "      <td>120.3</td>\n",
       "      <td>0.029</td>\n",
       "      <td>1669868619</td>\n",
       "      <td>baseline</td>\n",
       "    </tr>\n",
       "    <tr>\n",
       "      <th>106</th>\n",
       "      <td>1.5</td>\n",
       "      <td>120.3</td>\n",
       "      <td>0.029</td>\n",
       "      <td>1669868620</td>\n",
       "      <td>baseline</td>\n",
       "    </tr>\n",
       "    <tr>\n",
       "      <th>107</th>\n",
       "      <td>1.4</td>\n",
       "      <td>120.3</td>\n",
       "      <td>0.029</td>\n",
       "      <td>1669868621</td>\n",
       "      <td>baseline</td>\n",
       "    </tr>\n",
       "    <tr>\n",
       "      <th>108</th>\n",
       "      <td>1.4</td>\n",
       "      <td>120.3</td>\n",
       "      <td>0.029</td>\n",
       "      <td>1669868622</td>\n",
       "      <td>baseline</td>\n",
       "    </tr>\n",
       "    <tr>\n",
       "      <th>109</th>\n",
       "      <td>1.4</td>\n",
       "      <td>120.3</td>\n",
       "      <td>0.029</td>\n",
       "      <td>1669868623</td>\n",
       "      <td>baseline</td>\n",
       "    </tr>\n",
       "  </tbody>\n",
       "</table>\n",
       "<p>110 rows × 5 columns</p>\n",
       "</div>"
      ],
      "text/plain": [
       "     apower  voltage  current        time     state\n",
       "0       1.4    120.3    0.029  1669868506  baseline\n",
       "1       1.4    120.2    0.029  1669868507  baseline\n",
       "2       1.4    120.2    0.029  1669868508  baseline\n",
       "3       1.4    120.2    0.028  1669868509  baseline\n",
       "4       1.4    120.2    0.028  1669868510  baseline\n",
       "..      ...      ...      ...         ...       ...\n",
       "105     1.5    120.3    0.029  1669868619  baseline\n",
       "106     1.5    120.3    0.029  1669868620  baseline\n",
       "107     1.4    120.3    0.029  1669868621  baseline\n",
       "108     1.4    120.3    0.029  1669868622  baseline\n",
       "109     1.4    120.3    0.029  1669868623  baseline\n",
       "\n",
       "[110 rows x 5 columns]"
      ]
     },
     "execution_count": 15,
     "metadata": {},
     "output_type": "execute_result"
    }
   ],
   "source": [
    "power_baseline.to_csv(power_baseline_path, index=False)\n",
    "power_mute.to_csv(power_mute_path, index=False)\n",
    "power_music.to_csv(power_music_path, index=False)\n",
    "power_questions.to_csv(power_questions_path, index=False)"
   ]
  }
 ],
 "metadata": {
  "kernelspec": {
   "display_name": "Python 3 (ipykernel)",
   "language": "python",
   "name": "python3"
  },
  "language_info": {
   "codemirror_mode": {
    "name": "ipython",
    "version": 3
   },
   "file_extension": ".py",
   "mimetype": "text/x-python",
   "name": "python",
   "nbconvert_exporter": "python",
   "pygments_lexer": "ipython3",
   "version": "3.9.5"
  }
 },
 "nbformat": 4,
 "nbformat_minor": 5
}
